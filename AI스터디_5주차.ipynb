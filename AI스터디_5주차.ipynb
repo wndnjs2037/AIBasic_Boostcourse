{
  "nbformat": 4,
  "nbformat_minor": 0,
  "metadata": {
    "colab": {
      "name": "AI스터디_5주차.ipynb",
      "provenance": [],
      "authorship_tag": "ABX9TyP4f5bOABPkzNdAi9kd4CFC",
      "include_colab_link": true
    },
    "kernelspec": {
      "name": "python3",
      "display_name": "Python 3"
    },
    "language_info": {
      "name": "python"
    }
  },
  "cells": [
    {
      "cell_type": "markdown",
      "metadata": {
        "id": "view-in-github",
        "colab_type": "text"
      },
      "source": [
        "<a href=\"https://colab.research.google.com/github/wndnjs2037/AIBasic_Boostcourse/blob/main/AI%EC%8A%A4%ED%84%B0%EB%94%94_5%EC%A3%BC%EC%B0%A8.ipynb\" target=\"_parent\"><img src=\"https://colab.research.google.com/assets/colab-badge.svg\" alt=\"Open In Colab\"/></a>"
      ]
    },
    {
      "cell_type": "code",
      "source": [
        "from keras.datasets import mnist\n",
        "(x_train, _), (x_test, _) = mnist.load_data()"
      ],
      "metadata": {
        "id": "P6i5dP8aMYEB"
      },
      "execution_count": 1,
      "outputs": []
    },
    {
      "cell_type": "code",
      "execution_count": 2,
      "metadata": {
        "id": "5FMeRbPxv9Bb"
      },
      "outputs": [],
      "source": [
        "# MNIST Database -> 손글씨 숫자 이미지 집합\n",
        "import torch\n",
        "import torch.nn as nn\n",
        "import torchvision.datasets as dset\n",
        "import torchvision.transforms as transforms\n",
        "from torch.utils.data import DataLoader\n",
        "\n",
        "training_epochs = 15 #트레이닝 15회 반복\n",
        "batch_size = 100\n",
        "\n",
        "root = './data'\n",
        "mnist_train = dset.MNIST(root=root, train=True, transform=transforms.ToTensor(), download=True)\n",
        "mnist_test = dset.MNIST(root=root, train=False, transform=transforms.ToTensor(), download=True)"
      ]
    },
    {
      "cell_type": "code",
      "source": [
        "# 데이터 로드하기\n",
        "train_loader = DataLoader(mnist_train, batch_size=batch_size, shuffle=True)\n",
        "test_loader = DataLoader(mnist_test, batch_size=batch_size, shuffle=False)"
      ],
      "metadata": {
        "id": "cIjmAo_EKKxh"
      },
      "execution_count": 3,
      "outputs": []
    },
    {
      "cell_type": "code",
      "source": [
        "# 불러온 데이터를 학습할 모델 구현\n",
        "device = torch.device('cuda' if torch.cuda.is_available() else 'cpu')\n",
        "linear = torch.nn.Linear(784, 10, bias = True).to(device)\n",
        "torch.nn.init.normal_(linear.weight)"
      ],
      "metadata": {
        "colab": {
          "base_uri": "https://localhost:8080/"
        },
        "id": "cN8LsHVlN7LX",
        "outputId": "ae08bc8b-0dc6-417a-d451-ff71b2631f08"
      },
      "execution_count": 4,
      "outputs": [
        {
          "output_type": "execute_result",
          "data": {
            "text/plain": [
              "Parameter containing:\n",
              "tensor([[ 0.6311, -0.2091,  0.8356,  ..., -1.3043,  0.3351,  0.9042],\n",
              "        [-0.0761, -1.4224, -1.0800,  ..., -2.0003,  1.3290, -0.5558],\n",
              "        [-0.0076, -0.7995, -2.0143,  ..., -0.4154,  0.1873, -0.4130],\n",
              "        ...,\n",
              "        [-0.3827,  0.4127, -0.4284,  ..., -0.1769,  1.4464, -0.6626],\n",
              "        [-0.6733,  1.6255,  1.0745,  ...,  0.6309, -0.1514, -1.1572],\n",
              "        [ 0.2494,  0.3885,  0.4520,  ...,  0.4121, -0.4813,  1.4511]],\n",
              "       requires_grad=True)"
            ]
          },
          "metadata": {},
          "execution_count": 4
        }
      ]
    },
    {
      "cell_type": "code",
      "source": [
        "# loss 함수, optimizer 구현하기 (가중치 업데이트용)\n",
        "criterion = torch.nn.CrossEntropyLoss().to(device)\n",
        "optimizer = torch.optim.SGD(linear.parameters(), lr=0.1)"
      ],
      "metadata": {
        "id": "dlHW_R25OVxw"
      },
      "execution_count": 5,
      "outputs": []
    },
    {
      "cell_type": "code",
      "source": [
        "# 학습 Loop 구현\n",
        "for epoch in range(training_epochs):\n",
        "  for i, (imgs, labels) in enumerate(train_loader):\n",
        "    imgs, labels = imgs.to(device), labels.to(device)\n",
        "    imgs = imgs.view(-1, 28*28) #규격 설정\n",
        "\n",
        "    outputs = linear(imgs)\n",
        "    loss = criterion(outputs, labels)\n",
        "\n",
        "    optimizer.zero_grad()\n",
        "    loss.backward()\n",
        "    optimizer.step()\n",
        "\n",
        "    _, argmax = torch.max(outputs, 1)\n",
        "    accuracy = (labels == argmax).float().mean()\n",
        "\n",
        "    if (i+1) % 100 == 0:\n",
        "      print('Epoch [{}/{}]m Step [{}/{}], Loss: {:.4f}, Accuracy : {:2f}%'.format(\n",
        "          epoch+1, training_epochs, i+1, len(test_loader), loss.item(), accuracy.item() *100))\n"
      ],
      "metadata": {
        "colab": {
          "base_uri": "https://localhost:8080/"
        },
        "id": "e91LF3V_O2jv",
        "outputId": "ce02b96d-3f02-4d49-d747-1ad023ac5b6e"
      },
      "execution_count": 6,
      "outputs": [
        {
          "output_type": "stream",
          "name": "stdout",
          "text": [
            "Epoch [1/15]m Step [100/100], Loss: 3.0548, Accuracy : 47.999999%\n",
            "Epoch [1/15]m Step [200/100], Loss: 1.8956, Accuracy : 66.000003%\n",
            "Epoch [1/15]m Step [300/100], Loss: 2.0302, Accuracy : 63.999999%\n",
            "Epoch [1/15]m Step [400/100], Loss: 1.6060, Accuracy : 69.000000%\n",
            "Epoch [1/15]m Step [500/100], Loss: 1.3253, Accuracy : 72.000003%\n",
            "Epoch [1/15]m Step [600/100], Loss: 1.0905, Accuracy : 75.999999%\n",
            "Epoch [2/15]m Step [100/100], Loss: 0.9926, Accuracy : 76.999998%\n",
            "Epoch [2/15]m Step [200/100], Loss: 1.5276, Accuracy : 73.000002%\n",
            "Epoch [2/15]m Step [300/100], Loss: 0.6610, Accuracy : 83.999997%\n",
            "Epoch [2/15]m Step [400/100], Loss: 0.7171, Accuracy : 85.000002%\n",
            "Epoch [2/15]m Step [500/100], Loss: 1.1283, Accuracy : 75.000000%\n",
            "Epoch [2/15]m Step [600/100], Loss: 1.3827, Accuracy : 73.000002%\n",
            "Epoch [3/15]m Step [100/100], Loss: 0.9147, Accuracy : 81.999999%\n",
            "Epoch [3/15]m Step [200/100], Loss: 0.9617, Accuracy : 75.999999%\n",
            "Epoch [3/15]m Step [300/100], Loss: 0.9300, Accuracy : 79.000002%\n",
            "Epoch [3/15]m Step [400/100], Loss: 1.3740, Accuracy : 75.999999%\n",
            "Epoch [3/15]m Step [500/100], Loss: 0.9889, Accuracy : 81.000000%\n",
            "Epoch [3/15]m Step [600/100], Loss: 0.9693, Accuracy : 82.999998%\n",
            "Epoch [4/15]m Step [100/100], Loss: 0.6802, Accuracy : 85.000002%\n",
            "Epoch [4/15]m Step [200/100], Loss: 0.8899, Accuracy : 81.000000%\n",
            "Epoch [4/15]m Step [300/100], Loss: 1.6141, Accuracy : 77.999997%\n",
            "Epoch [4/15]m Step [400/100], Loss: 0.6093, Accuracy : 88.000000%\n",
            "Epoch [4/15]m Step [500/100], Loss: 0.7496, Accuracy : 83.999997%\n",
            "Epoch [4/15]m Step [600/100], Loss: 0.5139, Accuracy : 89.999998%\n",
            "Epoch [5/15]m Step [100/100], Loss: 0.8122, Accuracy : 81.000000%\n",
            "Epoch [5/15]m Step [200/100], Loss: 0.5005, Accuracy : 89.999998%\n",
            "Epoch [5/15]m Step [300/100], Loss: 0.6527, Accuracy : 87.000000%\n",
            "Epoch [5/15]m Step [400/100], Loss: 0.4667, Accuracy : 82.999998%\n",
            "Epoch [5/15]m Step [500/100], Loss: 0.6217, Accuracy : 89.999998%\n",
            "Epoch [5/15]m Step [600/100], Loss: 0.4851, Accuracy : 87.000000%\n",
            "Epoch [6/15]m Step [100/100], Loss: 0.4392, Accuracy : 88.999999%\n",
            "Epoch [6/15]m Step [200/100], Loss: 0.7396, Accuracy : 88.000000%\n",
            "Epoch [6/15]m Step [300/100], Loss: 0.7738, Accuracy : 85.000002%\n",
            "Epoch [6/15]m Step [400/100], Loss: 0.9789, Accuracy : 81.000000%\n",
            "Epoch [6/15]m Step [500/100], Loss: 0.5176, Accuracy : 87.000000%\n",
            "Epoch [6/15]m Step [600/100], Loss: 1.0946, Accuracy : 81.000000%\n",
            "Epoch [7/15]m Step [100/100], Loss: 0.4724, Accuracy : 88.999999%\n",
            "Epoch [7/15]m Step [200/100], Loss: 0.6830, Accuracy : 87.000000%\n",
            "Epoch [7/15]m Step [300/100], Loss: 0.6991, Accuracy : 82.999998%\n",
            "Epoch [7/15]m Step [400/100], Loss: 0.7414, Accuracy : 85.000002%\n",
            "Epoch [7/15]m Step [500/100], Loss: 0.7596, Accuracy : 83.999997%\n",
            "Epoch [7/15]m Step [600/100], Loss: 0.5369, Accuracy : 88.000000%\n",
            "Epoch [8/15]m Step [100/100], Loss: 0.5485, Accuracy : 88.000000%\n",
            "Epoch [8/15]m Step [200/100], Loss: 0.5598, Accuracy : 88.000000%\n",
            "Epoch [8/15]m Step [300/100], Loss: 0.5276, Accuracy : 86.000001%\n",
            "Epoch [8/15]m Step [400/100], Loss: 0.5585, Accuracy : 88.000000%\n",
            "Epoch [8/15]m Step [500/100], Loss: 0.6209, Accuracy : 86.000001%\n",
            "Epoch [8/15]m Step [600/100], Loss: 0.8396, Accuracy : 82.999998%\n",
            "Epoch [9/15]m Step [100/100], Loss: 0.2450, Accuracy : 94.999999%\n",
            "Epoch [9/15]m Step [200/100], Loss: 0.7641, Accuracy : 81.000000%\n",
            "Epoch [9/15]m Step [300/100], Loss: 0.6026, Accuracy : 83.999997%\n",
            "Epoch [9/15]m Step [400/100], Loss: 0.2032, Accuracy : 93.000001%\n",
            "Epoch [9/15]m Step [500/100], Loss: 0.6990, Accuracy : 85.000002%\n",
            "Epoch [9/15]m Step [600/100], Loss: 0.4808, Accuracy : 89.999998%\n",
            "Epoch [10/15]m Step [100/100], Loss: 0.5126, Accuracy : 85.000002%\n",
            "Epoch [10/15]m Step [200/100], Loss: 0.7838, Accuracy : 86.000001%\n",
            "Epoch [10/15]m Step [300/100], Loss: 0.4150, Accuracy : 88.999999%\n",
            "Epoch [10/15]m Step [400/100], Loss: 0.4304, Accuracy : 88.000000%\n",
            "Epoch [10/15]m Step [500/100], Loss: 0.5423, Accuracy : 83.999997%\n",
            "Epoch [10/15]m Step [600/100], Loss: 0.4202, Accuracy : 91.000003%\n",
            "Epoch [11/15]m Step [100/100], Loss: 0.4896, Accuracy : 81.999999%\n",
            "Epoch [11/15]m Step [200/100], Loss: 0.5485, Accuracy : 83.999997%\n",
            "Epoch [11/15]m Step [300/100], Loss: 0.4722, Accuracy : 88.000000%\n",
            "Epoch [11/15]m Step [400/100], Loss: 0.1914, Accuracy : 94.000000%\n",
            "Epoch [11/15]m Step [500/100], Loss: 0.3435, Accuracy : 87.000000%\n",
            "Epoch [11/15]m Step [600/100], Loss: 0.7481, Accuracy : 81.999999%\n",
            "Epoch [12/15]m Step [100/100], Loss: 0.5782, Accuracy : 88.000000%\n",
            "Epoch [12/15]m Step [200/100], Loss: 0.4660, Accuracy : 87.000000%\n",
            "Epoch [12/15]m Step [300/100], Loss: 0.2483, Accuracy : 91.000003%\n",
            "Epoch [12/15]m Step [400/100], Loss: 0.5021, Accuracy : 93.000001%\n",
            "Epoch [12/15]m Step [500/100], Loss: 0.5124, Accuracy : 87.000000%\n",
            "Epoch [12/15]m Step [600/100], Loss: 0.4869, Accuracy : 88.000000%\n",
            "Epoch [13/15]m Step [100/100], Loss: 0.4040, Accuracy : 89.999998%\n",
            "Epoch [13/15]m Step [200/100], Loss: 0.3958, Accuracy : 88.000000%\n",
            "Epoch [13/15]m Step [300/100], Loss: 0.5093, Accuracy : 85.000002%\n",
            "Epoch [13/15]m Step [400/100], Loss: 0.2923, Accuracy : 91.000003%\n",
            "Epoch [13/15]m Step [500/100], Loss: 0.3215, Accuracy : 92.000002%\n",
            "Epoch [13/15]m Step [600/100], Loss: 0.2455, Accuracy : 93.000001%\n",
            "Epoch [14/15]m Step [100/100], Loss: 0.1889, Accuracy : 94.999999%\n",
            "Epoch [14/15]m Step [200/100], Loss: 0.8436, Accuracy : 83.999997%\n",
            "Epoch [14/15]m Step [300/100], Loss: 0.8178, Accuracy : 85.000002%\n",
            "Epoch [14/15]m Step [400/100], Loss: 0.3671, Accuracy : 92.000002%\n",
            "Epoch [14/15]m Step [500/100], Loss: 0.5093, Accuracy : 85.000002%\n",
            "Epoch [14/15]m Step [600/100], Loss: 0.6327, Accuracy : 86.000001%\n",
            "Epoch [15/15]m Step [100/100], Loss: 0.6555, Accuracy : 83.999997%\n",
            "Epoch [15/15]m Step [200/100], Loss: 0.4313, Accuracy : 91.000003%\n",
            "Epoch [15/15]m Step [300/100], Loss: 0.3511, Accuracy : 91.000003%\n",
            "Epoch [15/15]m Step [400/100], Loss: 0.2107, Accuracy : 94.000000%\n",
            "Epoch [15/15]m Step [500/100], Loss: 0.4400, Accuracy : 89.999998%\n",
            "Epoch [15/15]m Step [600/100], Loss: 0.5498, Accuracy : 86.000001%\n"
          ]
        }
      ]
    },
    {
      "cell_type": "code",
      "source": [
        "linear.eval()\n",
        "with torch.no_grad():\n",
        "  correct = 0\n",
        "  total = 0\n",
        "\n",
        "  for i, (imgs, labels) in enumerate(test_loader):\n",
        "    imgs, labels = imgs.to(device), labels.to(device)\n",
        "    imgs = imgs.view(-1, 28 * 28)\n",
        "    outputs = linear(imgs)\n",
        "    _, argmax = torch.max(outputs, 1) # 최종 출력이 가장 높은 클래스 선택\n",
        "    total += imgs.size(0)\n",
        "    correct += (labels == argmax).sum().item()\n",
        "\n",
        "  print('Test accuracy for {} images: {:.2f}%'.format(total, correct / total * 100))"
      ],
      "metadata": {
        "colab": {
          "base_uri": "https://localhost:8080/"
        },
        "id": "jk1susY5mSvr",
        "outputId": "209e3d29-1979-45d6-9bd8-68c219861f6c"
      },
      "execution_count": 7,
      "outputs": [
        {
          "output_type": "stream",
          "name": "stdout",
          "text": [
            "Test accuracy for 10000 images: 89.26%\n"
          ]
        }
      ]
    },
    {
      "cell_type": "code",
      "source": [
        ""
      ],
      "metadata": {
        "id": "lS1KxfoEjlo8"
      },
      "execution_count": 6,
      "outputs": []
    }
  ]
}